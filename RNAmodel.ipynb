{
 "cells": [
  {
   "cell_type": "code",
   "execution_count": 1,
   "id": "a2c5ed3f-5ebd-4327-aed2-3dabd1e5535b",
   "metadata": {},
   "outputs": [],
   "source": [
    "import numpy as np\n",
    "import pandas as pd\n",
    "import itertools as it\n",
    "import os\n",
    "import math\n",
    "import matplotlib.pyplot as plt\n",
    "import random"
   ]
  },
  {
   "cell_type": "code",
   "execution_count": 2,
   "id": "0a90f1f2-47c9-4883-b0a4-8e6f0617dab5",
   "metadata": {},
   "outputs": [],
   "source": [
    "# variables\n",
    "closepairs = [['C', 'T'], ['A', 'T'], ['A', 'G']]"
   ]
  },
  {
   "cell_type": "code",
   "execution_count": 3,
   "id": "fca773a7-d23b-4195-ba4b-2a8fb1507fe3",
   "metadata": {},
   "outputs": [],
   "source": [
    "def make_dict(S):\n",
    "    d = { }\n",
    "    for s in S:\n",
    "        if not s in d:\n",
    "            d[s] = 0\n",
    "    return d"
   ]
  },
  {
   "cell_type": "code",
   "execution_count": 4,
   "id": "4152a04d-49b9-40cf-b8ee-17b064065438",
   "metadata": {},
   "outputs": [],
   "source": [
    "# Define character sets\n",
    "othchars = {'N', '\\n'} # Expected characters that should be ignored\n",
    "nucchars = {'T', 'A', 'C', 'G'} # Characters that should be read as part of the RNA # , 'B', 'K', 'M', 'S', 'R', 'W', 'Y'\n",
    "corenucchars = ['T', 'A', 'C', 'G'] # Subset of characters of RNA that are valid\n",
    "cdnchars = [] # All triplets of nucchars\n",
    "for c in it.product(nucchars, repeat=3):\n",
    "    codon = c[0]+c[1]+c[2]\n",
    "    cdnchars.append(codon)\n",
    "corecdnchars = [] # All triplets of corenucchars\n",
    "for c in it.product(corenucchars, repeat=3):\n",
    "    codon = c[0]+c[1]+c[2]\n",
    "    corecdnchars.append(codon)"
   ]
  },
  {
   "cell_type": "code",
   "execution_count": 5,
   "id": "2ea1f5b6-af59-423b-950a-d2200ac7b946",
   "metadata": {},
   "outputs": [
    {
     "name": "stdout",
     "output_type": "stream",
     "text": [
      "['Phenyl-alanine', 'Leucine', 'Tyrosine', 'Stop', 'Serine', 'Cysteine', 'Tryptophan', 'Isoleucine', 'Methionine', 'Asparagine', 'Lysine', 'Threonine', 'Arginine', 'Histidine', 'Glutamine', 'Proline', 'Valine', 'Aspartic Acid', 'Glutamic Acid', 'Alanine', 'Glycine']\n",
      "{'Phenyl-alanine': ['TTT', 'TTC'], 'Leucine': ['TTA', 'TTG', 'CTT', 'CTA', 'CTC', 'CTG'], 'Tyrosine': ['TAT', 'TAC'], 'Stop': ['TAA', 'TAG', 'TGA'], 'Serine': ['TCT', 'TCA', 'TCC', 'TCG', 'AGT', 'AGC'], 'Cysteine': ['TGT', 'TGC'], 'Tryptophan': ['TGG'], 'Isoleucine': ['ATT', 'ATA', 'ATC'], 'Methionine': ['ATG'], 'Asparagine': ['AAT', 'AAC'], 'Lysine': ['AAA', 'AAG'], 'Threonine': ['ACT', 'ACA', 'ACC', 'ACG'], 'Arginine': ['AGA', 'AGG', 'CGT', 'CGA', 'CGC', 'CGG'], 'Histidine': ['CAT', 'CAC'], 'Glutamine': ['CAA', 'CAG'], 'Proline': ['CCT', 'CCA', 'CCC', 'CCG'], 'Valine': ['GTT', 'GTA', 'GTC', 'GTG'], 'Aspartic Acid': ['GAT', 'GAC'], 'Glutamic Acid': ['GAA', 'GAG'], 'Alanine': ['GCT', 'GCA', 'GCC', 'GCG'], 'Glycine': ['GGT', 'GGA', 'GGC', 'GGG']}\n"
     ]
    }
   ],
   "source": [
    "# Codon dictionary\n",
    "codondict = {\n",
    "    \"TTT\": \"Phenyl-alanine\",\n",
    "    \"TTC\": \"Phenyl-alanine\",\n",
    "    \"TTA\": \"Leucine\",\n",
    "    \"TTG\": \"Leucine\",\n",
    "    \"TCT\": \"Serine\",\n",
    "    \"TCC\": \"Serine\",\n",
    "    \"TCA\": \"Serine\",\n",
    "    \"TCG\": \"Serine\",\n",
    "    \"TAT\": \"Tyrosine\",\n",
    "    \"TAC\": \"Tyrosine\",\n",
    "    \"TAA\": \"Stop\",\n",
    "    \"TAG\": \"Stop\",\n",
    "    \"TGT\": \"Cysteine\",\n",
    "    \"TGC\": \"Cysteine\",\n",
    "    \"TGA\": \"Stop\",\n",
    "    \"TGG\": \"Tryptophan\",\n",
    "    \"CTT\": \"Leucine\",\n",
    "    \"CTC\": \"Leucine\",\n",
    "    \"CTA\": \"Leucine\",\n",
    "    \"CTG\": \"Leucine\",\n",
    "    \"CCT\": \"Proline\",\n",
    "    \"CCC\": \"Proline\",\n",
    "    \"CCA\": \"Proline\",\n",
    "    \"CCG\": \"Proline\",\n",
    "    \"CAT\": \"Histidine\",\n",
    "    \"CAC\": \"Histidine\",\n",
    "    \"CAA\": \"Glutamine\",\n",
    "    \"CAG\": \"Glutamine\",\n",
    "    \"CGT\": \"Arginine\",\n",
    "    \"CGC\": \"Arginine\",\n",
    "    \"CGA\": \"Arginine\",\n",
    "    \"CGG\": \"Arginine\",\n",
    "    \"ATT\": \"Isoleucine\",\n",
    "    \"ATC\": \"Isoleucine\",\n",
    "    \"ATA\": \"Isoleucine\",\n",
    "    \"ATG\": \"Methionine\",\n",
    "    \"ACT\": \"Threonine\",\n",
    "    \"ACC\": \"Threonine\",\n",
    "    \"ACA\": \"Threonine\",\n",
    "    \"ACG\": \"Threonine\",\n",
    "    \"AAT\": \"Asparagine\",\n",
    "    \"AAC\": \"Asparagine\",\n",
    "    \"AAA\": \"Lysine\",\n",
    "    \"AAG\": \"Lysine\",\n",
    "    \"AGT\": \"Serine\",\n",
    "    \"AGC\": \"Serine\",\n",
    "    \"AGA\": \"Arginine\",\n",
    "    \"AGG\": \"Arginine\",\n",
    "    \"GTT\": \"Valine\",\n",
    "    \"GTC\": \"Valine\",\n",
    "    \"GTA\": \"Valine\",\n",
    "    \"GTG\": \"Valine\",\n",
    "    \"GCT\": \"Alanine\",\n",
    "    \"GCC\": \"Alanine\",\n",
    "    \"GCA\": \"Alanine\",\n",
    "    \"GCG\": \"Alanine\",\n",
    "    \"GAT\": \"Aspartic Acid\",\n",
    "    \"GAC\": \"Aspartic Acid\",\n",
    "    \"GAA\": \"Glutamic Acid\",\n",
    "    \"GAG\": \"Glutamic Acid\",\n",
    "    \"GGT\": \"Glycine\",\n",
    "    \"GGC\": \"Glycine\",\n",
    "    \"GGA\": \"Glycine\",\n",
    "    \"GGG\": \"Glycine\",\n",
    "}\n",
    "aminonames = []\n",
    "for c in corecdnchars:\n",
    "    if not codondict[c] in aminonames:\n",
    "        aminonames.append(codondict[c])\n",
    "\n",
    "rev_codondict = make_dict(aminonames) # dictionary from amino acid to codons\n",
    "for c in corecdnchars:\n",
    "    if  rev_codondict[codondict[c]] == 0:\n",
    "        rev_codondict[codondict[c]] = []\n",
    "    rev_codondict[codondict[c]].append(c)\n",
    "        \n",
    "print(aminonames)\n",
    "print(rev_codondict)"
   ]
  },
  {
   "cell_type": "code",
   "execution_count": 6,
   "id": "12426da1-a513-4db3-8509-e151ca760dcd",
   "metadata": {},
   "outputs": [
    {
     "data": {
      "image/png": "[encoded data removed]",
      "text/plain": [
       "<Figure size 1152x648 with 1 Axes>"
      ]
     },
     "metadata": {
      "needs_background": "light"
     },
     "output_type": "display_data"
    }
   ],
   "source": [
    "# load distribution of codons\n",
    "distdict = {'TTT': 5379930, 'TTC': 3489330, 'TTG': 3346091, 'TTA': 2854192, 'TCT': 3713851, 'TCC': 3333211, 'TCG': 827472, 'TCA': 3560263, 'TGT': 3671777, 'TGC': 3358600, 'TGG': 4198572, 'TGA': 3896165, 'TAT': 2717421, 'TAC': 1971858, 'TAG': 1765414, 'TAA': 2772671, 'CTT': 3604102, 'CTC': 3418446, 'CTG': 4886439, 'CTA': 2028492, 'CCT': 3994829, 'CCC': 3584074, 'CCG': 1395220, 'CCA': 4126496, 'CGT': 850978, 'CGC': 1167168, 'CGG': 1393193, 'CGA': 935301, 'CAT': 3177732, 'CAC': 3021415, 'CAG': 4927410, 'CAA': 3494785, 'GTT': 2540730, 'GTC': 2064226, 'GTG': 3312170, 'GTA': 1790976, 'GCT': 3339168, 'GCC': 3427017, 'GCG': 1193087, 'GCA': 3324824, 'GGT': 2258681, 'GGC': 3176324, 'GGG': 3156393, 'GGA': 3967764, 'GAT': 2672919, 'GAC': 2444849, 'GAG': 3952791, 'GAA': 4332881, 'ATT': 3552064, 'ATC': 2458843, 'ATG': 3518926, 'ATA': 2584899, 'ACT': 2896694, 'ACC': 2744211, 'ACG': 915076, 'ACA': 3584179, 'AGT': 2959982, 'AGC': 3579694, 'AGG': 3790603, 'AGA': 4636759, 'AAT': 3574871, 'AAC': 2726839, 'AAG': 4257699, 'AAA': 5772129}\n",
    "\n",
    "# count amino acids, and their percentage\n",
    "total = 0\n",
    "da = make_dict(aminonames)\n",
    "dt = make_dict(aminonames)\n",
    "\n",
    "for c in corecdnchars:\n",
    "    da[codondict[c]] += distdict[c]\n",
    "    total += distdict[c]\n",
    "    \n",
    "for c in aminonames:\n",
    "    dt[c] = da[c] / total\n",
    "\n",
    "# sort and graph\n",
    "X = list(aminonames)\n",
    "X.sort(reverse=True, key=lambda x : da[x])\n",
    "Y = [da[x] for x in X]\n",
    "    \n",
    "fig, ax = plt.subplots(figsize =(16, 9))\n",
    "plt.bar(X,Y,width=0.5,color=[\"tab:blue\", \"tab:orange\", \"tab:green\", \"tab:red\"])\n",
    "plt.title(\"Amino Frequency\")\n",
    "plt.xlabel('Aminoacid')\n",
    "plt.ylabel('Frequency')\n",
    "plt.xticks(rotation=45)\n",
    "plt.show()\n",
    "plt.close()"
   ]
  },
  {
   "cell_type": "code",
   "execution_count": 7,
   "id": "157a4e12-c404-4209-8c3b-eca61e72bc44",
   "metadata": {},
   "outputs": [],
   "source": [
    "# returns a codon given a number between 0 and 1\n",
    "def find_codon(p):\n",
    "    current = 0\n",
    "    curprob = 0        \n",
    "    \n",
    "    while current < len(aminonames):\n",
    "        curprob += dt[aminonames[current]]\n",
    "        if p < curprob:\n",
    "            return aminonames[current]\n",
    "        current += 1\n",
    "        \n",
    "    return aminonames[-1]"
   ]
  },
  {
   "cell_type": "raw",
   "id": "c5eb91b3-3a9a-4286-8647-65a3a91b4f94",
   "metadata": {},
   "source": [
    "# return whether there is an error given a number between 0 and 1\n",
    "def has_error(p, p_err):\n",
    "    return p < p_err"
   ]
  },
  {
   "cell_type": "raw",
   "id": "6b24415c-c41e-47a8-968f-f27984c1aca3",
   "metadata": {},
   "source": [
    "# return whether two nucleotides are close (i.e. in the same set in closepairs)\n",
    "def is_close(a, b):\n",
    "    for cp in closepairs:\n",
    "        if a in cp and b in cp:\n",
    "            return True\n",
    "    return False"
   ]
  },
  {
   "cell_type": "raw",
   "id": "35f60237-0071-45d6-9060-5be37581246e",
   "metadata": {},
   "source": [
    "# returns a string of 0's and 1's given a boolean list\n",
    "def boollist_2_01(l):\n",
    "    out_list = \"\"\n",
    "    \n",
    "    for b in l:\n",
    "        if b == True:\n",
    "            out_list += \"1\"\n",
    "        else:\n",
    "            out_list += \"0\"\n",
    "            \n",
    "    return out_list"
   ]
  },
  {
   "cell_type": "code",
   "execution_count": 8,
   "id": "fe42c894-c78a-4149-ae49-8c03565054c0",
   "metadata": {},
   "outputs": [],
   "source": [
    "# returns a string of 0's and 1's given a boolean list\n",
    "def intlist_2_str(l):\n",
    "    out = \"\"\n",
    "    \n",
    "    for i in l:\n",
    "        out += str(i)\n",
    "            \n",
    "    return out"
   ]
  },
  {
   "cell_type": "raw",
   "id": "f9a7af24-2c9d-4882-ab82-4011f8c1dede",
   "metadata": {},
   "source": [
    "# generates input with an RNA sequence of n codons, and accompanying error, modified RNA, and error code \n",
    "def gen_RNAerr(n,p_err):\n",
    "    rna = \"\"\n",
    "    err = []\n",
    "    mod_rna = \"\"\n",
    "    err_code = []\n",
    "    \n",
    "    for i in range(n):\n",
    "        r = random.uniform(0, 1)\n",
    "        cdn = random.choice(rev_codondict[find_codon(r)])\n",
    "        rna += cdn\n",
    "    \n",
    "    for i in range(3*n):\n",
    "        r = random.uniform(0, 1)\n",
    "        cur_err = has_error(r, p_err)\n",
    "        err.append(cur_err)\n",
    "        \n",
    "        if not cur_err:\n",
    "            mod_rna += rna[i]\n",
    "            err_code.append(False)\n",
    "        else:\n",
    "            othchars = [c for c in corenucchars if not c == rna[i]]\n",
    "            chosen = random.choice(othchars)\n",
    "            mod_rna += chosen\n",
    "            \n",
    "            err_code.append(is_close(rna[i], chosen))\n",
    "\n",
    "    return rna, err, mod_rna, err_code"
   ]
  },
  {
   "cell_type": "raw",
   "id": "1d0ea626-ec34-47c0-8086-27c63c7883e3",
   "metadata": {},
   "source": [
    "# computes whether the amino acids are the same between rna and mod_rna\n",
    "def can_read_01(rna, mod_rna, err_code):\n",
    "    n = len(rna)\n",
    "    if not n == len(mod_rna):\n",
    "        print(\"Invalid length\")\n",
    "    \n",
    "    output = True\n",
    "    nsucc = 0\n",
    "    \n",
    "    for i in range(math.floor(n/3)):\n",
    "        codon_real = rna[3*i : 3*i + 3]\n",
    "        codon_read = mod_rna[3*i : 3*i + 3]\n",
    "        amino_reals = rev_codondict[codondict[codon_real]]\n",
    "        if codon_read in amino_reals:\n",
    "            nsucc += 1\n",
    "            continue\n",
    "        \n",
    "        output = False\n",
    "    \n",
    "    return output, nsucc"
   ]
  },
  {
   "cell_type": "raw",
   "id": "502d5955-4ddc-4b31-aced-cf6cee5ae81a",
   "metadata": {},
   "source": [
    "# generates expcount inputs of side codoncount, with error p_error. Then runs expcount experiments. Returns number of successes and number of codons successfully read.\n",
    "def do_experiment_01(codoncount, p_err, expcount):\n",
    "    successes = 0\n",
    "    codonread = 0\n",
    "    \n",
    "    for i in range(expcount):\n",
    "        rna, errmap, mod_rna, err_code = gen_RNAerr(codoncount, p_err)\n",
    "        read, read_count = can_read_01(rna, mod_rna, err_code)\n",
    "        if read:\n",
    "            successes += 1\n",
    "            \n",
    "        codonread += read_count\n",
    "        \n",
    "    return successes, codonread"
   ]
  },
  {
   "cell_type": "code",
   "execution_count": 9,
   "id": "85077e34-aac2-44f6-8c6e-27d89041626b",
   "metadata": {},
   "outputs": [],
   "source": [
    "def errgen_01(char, err):\n",
    "    if err == 0:\n",
    "        return char, 0\n",
    "    return random.choice([x for x in corenucchars if not x == char]), 1\n",
    "\n",
    "def errcor_01(char, err):\n",
    "    if err == 0:\n",
    "        return [char]\n",
    "    \n",
    "    return [x for x in corenucchars if not x == char]"
   ]
  },
  {
   "cell_type": "code",
   "execution_count": 10,
   "id": "7d9dbebc-4373-476c-ac3f-91d29069cf81",
   "metadata": {},
   "outputs": [],
   "source": [
    "def close_char(char):\n",
    "    close = set()\n",
    "    for p in closepairs:\n",
    "        if char in p:\n",
    "            close.extend(p)\n",
    "    return close\n",
    "\n",
    "def errgen_close(char, err):\n",
    "    if err == 0:\n",
    "        return char, 0\n",
    "    \n",
    "    close = close_char(char)\n",
    "    mod_char = random.choice([x for x in corenucchars if not x == char])\n",
    "    \n",
    "    if mod_char in close:\n",
    "        return mod_char, 0\n",
    "    \n",
    "    return mod_char, 1\n",
    "    \n",
    "def errcor_close(char, err):\n",
    "    close = close_char(char)\n",
    "    if err == 0:\n",
    "        return close\n",
    "    return [x for x in corenucchars if not x in close]"
   ]
  },
  {
   "cell_type": "code",
   "execution_count": 11,
   "id": "946b9f25-4a37-4ea7-b3f1-4db1b4bffbeb",
   "metadata": {},
   "outputs": [],
   "source": [
    "# return whether there is an error given a number between 0 and 1\n",
    "def has_error(p, p_err):\n",
    "    if p < p_err:\n",
    "        return 1\n",
    "    return 0"
   ]
  },
  {
   "cell_type": "code",
   "execution_count": 21,
   "id": "cc0585f2-3bb0-4cc7-b03d-cee55d42925f",
   "metadata": {},
   "outputs": [],
   "source": [
    "# generates input with an RNA sequence of n codons, and accompanying error, modified RNA, and error code \n",
    "def gen_RNAerr(n, p_err, errmode):\n",
    "    rna = \"\"\n",
    "    err = []\n",
    "    mod_rna = \"\"\n",
    "    err_code = []\n",
    "    \n",
    "    for i in range(n):\n",
    "        r = random.uniform(0, 1)\n",
    "        cdn = random.choice(rev_codondict[find_codon(r)])\n",
    "        rna += cdn\n",
    "    \n",
    "    for i in range(3*n):\n",
    "        r = random.uniform(0, 1)\n",
    "        cur_err = has_error(r, p_err)\n",
    "        err.append(cur_err)\n",
    "        \n",
    "        mod_char, err_bit = errmode[0](rna[i],cur_err)\n",
    "        err_code.append(err_bit)\n",
    "        mod_rna += mod_char\n",
    "\n",
    "    return rna, err, mod_rna, err_code"
   ]
  },
  {
   "cell_type": "code",
   "execution_count": 29,
   "id": "51c02afa-1a28-4f7a-87f9-d118efce91a7",
   "metadata": {},
   "outputs": [],
   "source": [
    "def pos_codons(c, e, errmode):\n",
    "    p = [errmode[1](c[i], e[i]) for i in range(3)]\n",
    "    return [x + y + z for x in p[0] for y in p[1] for z in p[2]]"
   ]
  },
  {
   "cell_type": "code",
   "execution_count": 30,
   "id": "bcad7b1e-8f75-466d-a4dd-fdcdcb247fac",
   "metadata": {},
   "outputs": [],
   "source": [
    "def can_read(rna, mod_rna, err_code, errmode):\n",
    "    n = len(rna)\n",
    "    if not n == len(mod_rna):\n",
    "        print(\"Invalid length\")\n",
    "    \n",
    "    output = True\n",
    "    nsucc = [0 for i in range(4)] # nsucc[i] = number of successful reads with i errors in codon\n",
    "    ntot = [0 for i in range(4)] # nsucc[i] = number of codons with i errors\n",
    "    \n",
    "    for i in range(math.floor(n/3)):\n",
    "        real_codon = rna[3*i : 3*i + 3]\n",
    "        mod_codon = mod_rna[3*i : 3*i + 3]\n",
    "        err_codon = err_code[3*i : 3*i + 3]\n",
    "        n_err = 0\n",
    "        for e in err_codon:\n",
    "            if e == 1:\n",
    "                n_err += 1\n",
    "        ntot[n_err] += 1\n",
    "        \n",
    "        ident_codons = rev_codondict[codondict[real_codon]] # find all codons representing same aminoacid as real codon\n",
    "        \n",
    "        if mod_codon in ident_codons: # the output of the machine corresponds to the same codon\n",
    "            nsucc[n_err] += 1\n",
    "            continue\n",
    "        \n",
    "        # check if all possible codons after error correction are correct\n",
    "        errcorr_codons = pos_codons(mod_codon, err_codon, errmode)\n",
    "        valid = True\n",
    "        for c in errcorr_codons:\n",
    "            if not c in ident_codons:\n",
    "                valid = False\n",
    "                break\n",
    "        \n",
    "        if valid:\n",
    "            nsucc[n_err] += 1\n",
    "            continue\n",
    "        \n",
    "        output = False\n",
    "    \n",
    "    return output, nsucc, ntot"
   ]
  },
  {
   "cell_type": "code",
   "execution_count": 31,
   "id": "e81d10a3-9740-4ef8-90a3-67c998df8d62",
   "metadata": {},
   "outputs": [],
   "source": [
    "def do_experiment(codoncount, p_err, expcount, errmode):\n",
    "    successes = 0\n",
    "    succ_read = [0 for i in range(4)]\n",
    "    tot_read = [0 for i in range(4)]\n",
    "    \n",
    "    for i in range(expcount):\n",
    "        rna, errmap, mod_rna, err_code = gen_RNAerr(codoncount, p_err, errmode)\n",
    "        read, succ, tot = can_read(rna, mod_rna, err_code, errmode)\n",
    "        if read:\n",
    "            successes += 1\n",
    "        \n",
    "        for i in range(4):\n",
    "            succ_read[i] += succ[i]\n",
    "            tot_read[i] += tot[i]\n",
    "        \n",
    "    return successes, succ_read, tot_read"
   ]
  },
  {
   "cell_type": "code",
   "execution_count": 39,
   "id": "33ea9331-3da8-4406-a671-4e67fcbcf7b5",
   "metadata": {},
   "outputs": [
    {
     "data": {
      "text/plain": [
       "(1, [17315, 5077, 151, 9], [17315, 21908, 9427, 1350])"
      ]
     },
     "execution_count": 39,
     "metadata": {},
     "output_type": "execute_result"
    }
   ],
   "source": [
    "do_experiment(10, 0.3, 5000, (errgen_01, errcor_01))"
   ]
  },
  {
   "cell_type": "code",
   "execution_count": 44,
   "id": "2946be08-cbcc-4368-b499-88a402055a83",
   "metadata": {},
   "outputs": [],
   "source": [
    "def do_experiments(codoncounts, p_errs, expcounts, errmode):\n",
    "    out = [ [ 0 for j in p_errs ] for i in codoncounts]\n",
    "    \n",
    "    for i in range(len(codoncounts)):\n",
    "        for j in range(len(p_errs)):\n",
    "            res = do_experiment(codoncounts[i], p_errs[j], expcounts, errmode)\n",
    "            out[i][j] = res\n",
    "    \n",
    "    return out"
   ]
  },
  {
   "cell_type": "code",
   "execution_count": 48,
   "id": "81af2d95-dce2-41f4-8eeb-f4f1b8cc8af4",
   "metadata": {},
   "outputs": [
    {
     "data": {
      "text/plain": [
       "[[(3948, [48486, 352, 0, 0], [48486, 1504, 10, 0]),\n",
       "  (486, [36603, 2751, 23, 0], [36603, 12003, 1355, 39])],\n",
       " [(3123, [96983, 681, 2, 0], [96983, 2989, 28, 0]),\n",
       "  (32, [72658, 5809, 41, 0], [72658, 24577, 2661, 104])]]"
      ]
     },
     "execution_count": 48,
     "metadata": {},
     "output_type": "execute_result"
    }
   ],
   "source": [
    "do_experiments([10,20],[0.01,0.1], 5000, (errgen_01, errcor_01))"
   ]
  }
 ],
 "metadata": {
  "kernelspec": {
   "display_name": "Python 3 (ipykernel)",
   "language": "python",
   "name": "python3"
  },
  "language_info": {
   "codemirror_mode": {
    "name": "ipython",
    "version": 3
   },
   "file_extension": ".py",
   "mimetype": "text/x-python",
   "name": "python",
   "nbconvert_exporter": "python",
   "pygments_lexer": "ipython3",
   "version": "3.10.0"
  }
 },
 "nbformat": 4,
 "nbformat_minor": 5
}
